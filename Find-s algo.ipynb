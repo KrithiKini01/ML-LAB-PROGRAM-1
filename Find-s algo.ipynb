{
 "cells": [
  {
   "cell_type": "code",
   "execution_count": 13,
   "metadata": {},
   "outputs": [],
   "source": [
    "import pandas as pd\n",
    "import csv"
   ]
  },
  {
   "cell_type": "code",
   "execution_count": 14,
   "metadata": {},
   "outputs": [
    {
     "name": "stdout",
     "output_type": "stream",
     "text": [
      "     Sky AirTemp Humidity     Wind Water Forecast EnjoySport\n",
      "0  Sunny    Warm    Normal  Strong  Warm     Same        Yes\n",
      "1  Sunny    Warm      High  Strong  Warm     Same        Yes\n",
      "2  Rainy    Cold      High  Strong  Warm   Change         No\n",
      "3  Sunny    Warm      High  Strong  Cool   Change        Yes\n"
     ]
    }
   ],
   "source": [
    "data = pd.read_csv('4MT17CS049_Weather.csv')\n",
    "columnLength = data.shape[1]\n",
    "print(data)"
   ]
  },
  {
   "cell_type": "code",
   "execution_count": 15,
   "metadata": {},
   "outputs": [],
   "source": [
    "h = ['0'] * (columnLength-1)\n",
    "hp = []\n",
    "hn = []"
   ]
  },
  {
   "cell_type": "code",
   "execution_count": 25,
   "metadata": {},
   "outputs": [],
   "source": [
    "for trainingExample in data.values:\n",
    "    if trainingExample[-1] != 'No':\n",
    "        hp.append(list(trainingExample))\n",
    "    else:\n",
    "        hn.append(list(trainingExample))"
   ]
  },
  {
   "cell_type": "code",
   "execution_count": 26,
   "metadata": {},
   "outputs": [],
   "source": [
    "for i in range(len(hp)):\n",
    "    for j in range(columnLength-1):\n",
    "        if(h[j] == '0'):\n",
    "            h[j] = hp[i][j]\n",
    "        if (h[j] != hp[i][j]):\n",
    "            h[j] = '?'\n",
    "        else:\n",
    "            h[j] = hp[i][j]"
   ]
  },
  {
   "cell_type": "code",
   "execution_count": 27,
   "metadata": {},
   "outputs": [
    {
     "name": "stdout",
     "output_type": "stream",
     "text": [
      "\n",
      "The positive Hypothses are\n",
      "[['Sunny', 'Warm', 'Normal', 'Strong', 'Warm', 'Same', 'Yes'], ['Sunny', 'Warm', 'High', 'Strong', 'Warm', 'Same', 'Yes'], ['Sunny', 'Warm', 'High', 'Strong', 'Cool', 'Change', 'Yes']]\n",
      "\n",
      "The negative Hypothesis are\n",
      "[['Rainy', 'Cold', 'High', 'Strong', 'Warm', 'Change', 'No']]\n",
      "\n",
      "The Maximally Specific Hypothesis h is\n",
      "['Sunny', 'Warm', '?', 'Strong', '?', '?']\n"
     ]
    }
   ],
   "source": [
    "print('\\nThe positive Hypothses are')\n",
    "print(hp)\n",
    "print('\\nThe negative Hypothesis are')\n",
    "print(hn)\n",
    "print('\\nThe Maximally Specific Hypothesis h is')\n",
    "print(h)"
   ]
  },
  {
   "cell_type": "code",
   "execution_count": null,
   "metadata": {},
   "outputs": [],
   "source": []
  }
 ],
 "metadata": {
  "kernelspec": {
   "display_name": "Python 3",
   "language": "python",
   "name": "python3"
  },
  "language_info": {
   "codemirror_mode": {
    "name": "ipython",
    "version": 3
   },
   "file_extension": ".py",
   "mimetype": "text/x-python",
   "name": "python",
   "nbconvert_exporter": "python",
   "pygments_lexer": "ipython3",
   "version": "3.7.6"
  }
 },
 "nbformat": 4,
 "nbformat_minor": 4
}
